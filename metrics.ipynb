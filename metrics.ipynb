{
 "cells": [
  {
   "cell_type": "code",
   "execution_count": null,
   "metadata": {},
   "outputs": [],
   "source": [
    "import pandas as pd\n",
    "df = pd.read_csv('monetization_event.csv')"
   ]
  },
  {
   "cell_type": "code",
   "execution_count": null,
   "metadata": {},
   "outputs": [],
   "source": [
    "# предположительные дни акции\n",
    "first_day = df.loc[7, 'date'] # например '2017-04-05‘ \n",
    "second_day = df.loc[8, 'date'] # например '2017-04-06‘\n",
    "third_day = df.loc[9, 'date'] # например '2017-04-07‘"
   ]
  },
  {
   "cell_type": "code",
   "execution_count": null,
   "metadata": {},
   "outputs": [],
   "source": [
    "# группируем пользователей по дате и подсчитываем количество сессий по каждому \n",
    "date_grouping = df.groupby(['user_id', ‘date’])\n",
    "sessions_counting = date_grouping[‘sessions’].count()\n",
    "# количество сессий в каждый день акции\n",
    "first_day_sessions = df[(df['date'] == first_day) & (df['sessions'] != 0)].count()\n",
    "second_day_sessions = df[(df['date'] == second_day) & (df['sessions'] != 0)].count()\n",
    "third_day_sessions = df[(df['date'] == third_day) & (df['sessions'] != 0)].count()"
   ]
  },
  {
   "cell_type": "code",
   "execution_count": null,
   "metadata": {},
   "outputs": [],
   "source": [
    "# DAU любого из трех дней акции\n",
    "dau_first_day = len(first_day_sessions.index)\n",
    "dau_secons_day = len(second_day_sessions.index)\n",
    "dau_third_day = len(third_day_sessions.index)\n",
    "\n",
    "# сколько заплатил каждый пользователь, а также общее количество платящих пользователей за все время акции\n",
    "paying_users = df['payments'] > 0\n",
    "payments_counting = paying_users.groupby('user_id’)[‘payments’].count()\n",
    "paying_users_all = len(paying_users.index)"
   ]
  },
  {
   "cell_type": "code",
   "execution_count": null,
   "metadata": {},
   "outputs": [],
   "source": [
    "# соответственно не хватает данных о тех, кто ни разу не платил во время акции\n",
    "not_paying_users = df['payments'] == 0\n",
    "not_payments_counting = not_paying_users.groupby('user_id’)[‘payments’].count()\n",
    "not_paying_users_all = len(not_paying_users.index)"
   ]
  },
  {
   "cell_type": "code",
   "execution_count": null,
   "metadata": {},
   "outputs": [],
   "source": [
    "# доход и соответствующие метрики за все 3 дня\n",
    "revenue_all = df['revenue'].sum()\n",
    "arppu = revenue_all / paying_users_all"
   ]
  },
  {
   "cell_type": "code",
   "execution_count": null,
   "metadata": {},
   "outputs": [],
   "source": [
    "# для paying share нужно найти AU за 3 дня:\n",
    "au_all = len(sessions_counting.index)\n",
    "paying_share_all = paying_users_all / au_all"
   ]
  }
 ],
 "metadata": {
  "kernelspec": {
   "display_name": "Python 3",
   "language": "python",
   "name": "python3"
  },
  "language_info": {
   "codemirror_mode": {
    "name": "ipython",
    "version": 3
   },
   "file_extension": ".py",
   "mimetype": "text/x-python",
   "name": "python",
   "nbconvert_exporter": "python",
   "pygments_lexer": "ipython3",
   "version": "3.7.3"
  }
 },
 "nbformat": 4,
 "nbformat_minor": 4
}
